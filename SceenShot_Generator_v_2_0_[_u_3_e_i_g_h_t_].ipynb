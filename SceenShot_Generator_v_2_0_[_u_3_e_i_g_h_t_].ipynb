{
  "nbformat": 4,
  "nbformat_minor": 0,
  "metadata": {
    "colab": {
      "name": "SceenShot_Generator v-2.0 [--- u 3 e i g h t ---].ipynb",
      "version": "0.3.2",
      "provenance": [],
      "collapsed_sections": [],
      "include_colab_link": true
    },
    "kernelspec": {
      "name": "python3",
      "display_name": "Python 3"
    }
  },
  "cells": [
    {
      "cell_type": "markdown",
      "metadata": {
        "id": "view-in-github",
        "colab_type": "text"
      },
      "source": [
        "<a href=\"https://colab.research.google.com/github/uaudith/Screen-Generator/blob/master/SceenShot_Generator_v_2_0_%5B_u_3_e_i_g_h_t_%5D.ipynb\" target=\"_parent\"><img src=\"https://colab.research.google.com/assets/colab-badge.svg\" alt=\"Open In Colab\"/></a>"
      ]
    },
    {
      "cell_type": "markdown",
      "metadata": {
        "id": "aqe31ifnWEIR",
        "colab_type": "text"
      },
      "source": [
        "First Mount the google drive\n"
      ]
    },
    {
      "cell_type": "code",
      "metadata": {
        "id": "We6x5YKTWAlC",
        "colab_type": "code",
        "outputId": "c1c15d22-8339-47d3-fdc0-8bc67a9de359",
        "colab": {
          "base_uri": "https://localhost:8080/",
          "height": 35
        },
        "cellView": "form"
      },
      "source": [
        "#@markdown <h3>⬅️ Run This Cell to Mount Gdrive</h3>\n",
        "from IPython.display import HTML, clear_output\n",
        "from google.colab import drive\n",
        "import json\n",
        "import ipywidgets as widgets\n",
        "drive.mount('/content/drive')\n",
        "def MakeLabel(description, button_style):\n",
        "  return widgets.Button(description=description, disabled=True, button_style=button_style)\n",
        "clear_output()\n",
        "display(MakeLabel(\"✔ Successfull\", \"success\"))"
      ],
      "execution_count": 1,
      "outputs": [
        {
          "output_type": "display_data",
          "data": {
            "application/vnd.jupyter.widget-view+json": {
              "model_id": "646afec26cc64685acf61e56c90e8b70",
              "version_minor": 0,
              "version_major": 2
            },
            "text/plain": [
              "Button(button_style='success', description='✔ Successfull', disabled=True, style=ButtonStyle())"
            ]
          },
          "metadata": {
            "tags": []
          }
        }
      ]
    },
    {
      "cell_type": "code",
      "metadata": {
        "id": "yjEODMVLsKt_",
        "colab_type": "code",
        "outputId": "d7cc9055-0195-4492-fa7b-23639e556e37",
        "cellView": "form",
        "colab": {
          "base_uri": "https://localhost:8080/",
          "height": 35
        }
      },
      "source": [
        "#@markdown <h3>⬅️ Run once If you need Imgur upload support.</h3>\n",
        "get_ipython().system_raw('pip3 install opencv-python')\n",
        "from IPython.display import HTML, clear_output\n",
        "import ipywidgets as widgets\n",
        "import base64\n",
        "import json\n",
        "import requests\n",
        "import numpy as np\n",
        "import os\n",
        "from base64 import b64encode\n",
        "\n",
        "client_id = input('client id : ')\n",
        "headers={\"Authorization\":\"Client-ID \"+client_id}\n",
        "np.save('imgur_u3eight.npy', headers) \n",
        "url = \"https://api.imgur.com/3/upload.json\"\n",
        "\n",
        "! mkdir -p /root/.uaudith\n",
        "! mv imgur_u3eight.npy /root/.uaudith/\n",
        "\n",
        "def upload(filename):\n",
        "  j1 = requests.post(\n",
        "      url,\n",
        "      headers = np.load('/root/.uaudith/imgur_u3eight.npy',allow_pickle=True).item(),\n",
        "      data = {\n",
        "          \n",
        "          'image': b64encode(open(filename, 'rb').read()),\n",
        "          'type': 'base64',\n",
        "          'name': str(filename),\n",
        "          'title': filename+' by u38'\n",
        "      }\n",
        "  )\n",
        "  data = json.loads(j1.text)['data']\n",
        "  print (data['link'], data['id'], data['deletehash'],str(filename))\n",
        "  return data['link']\n",
        "def MakeLabel(description, button_style):\n",
        "  return widgets.Button(description=description, disabled=True, button_style=button_style)\n",
        "display(MakeLabel(\"✔ Successfull\", \"success\"))\n"
      ],
      "execution_count": 2,
      "outputs": [
        {
          "output_type": "stream",
          "text": [
            "client id : 3f18dc3201b1270\n"
          ],
          "name": "stdout"
        },
        {
          "output_type": "display_data",
          "data": {
            "application/vnd.jupyter.widget-view+json": {
              "model_id": "29ab7d10112b40f38acbf86f3a2cf9d9",
              "version_minor": 0,
              "version_major": 2
            },
            "text/plain": [
              "Button(button_style='success', description='✔ Successfull', disabled=True, style=ButtonStyle())"
            ]
          },
          "metadata": {
            "tags": []
          }
        }
      ]
    },
    {
      "cell_type": "code",
      "metadata": {
        "id": "XUetZ6oEJUIo",
        "colab_type": "code",
        "cellView": "both",
        "outputId": "050c03d3-af5a-40d7-a957-1da952e14ea9",
        "colab": {
          "base_uri": "https://localhost:8080/",
          "height": 120
        }
      },
      "source": [
        "#@markdown <h3>⬅️ Run This Cell to generate Screenshots</h3>\n",
        "#@markdown <h4> 1st mount gdrive  and copy the path to video</h4>\n",
        "# ============================= FORM ============================= #\n",
        "#get_ipython().system_raw('python3 -m pip install -U hachoir')\n",
        "get_ipython().system_raw('pip3 install opencv-python')\n",
        "\n",
        "import random, string, urllib.request, json, getpass, os, time, IPython, uuid\n",
        "import ipywidgets as widgets\n",
        "from IPython.display import HTML, clear_output\n",
        "import subprocess\n",
        "import os\n",
        "import numpy as np\n",
        "video_path = \"/content/drive/My Drive/Woody the Woodpecker/Woody.Woodpecker.Chief.Charlie.Horse.1956.Dvdrip.X264-Sprinter-1.mkv\" #@param {type:\"string\"}\n",
        "#@markdown <h4> water mark should be a plane text</h4>\n",
        "#@markdown <h5> **you can leave it blank</h5>\n",
        "your_watermark = \"by-u3eight\" #@param {type:\"string\"}\n",
        "\n",
        "save_to_drive = True #@param {type:\"boolean\"}\n",
        "send_to_imgur = True #@param {type:\"boolean\"}\n",
        "\n",
        "def err():\n",
        "  display(HTML(\"<center><h2 style=\\\"font-family:Trebuchet MS;color:#008000;\\\">No api key Detected. Run Configuration !</h2><br></center>\"))\n",
        "\n",
        "#@markdown ---\n",
        "import cv2\n",
        "path=video_path.split('/')\n",
        "filename=path[-1]\n",
        "framelist=[]\n",
        "path[-1]=''\n",
        "\n",
        "#frame length\n",
        "cap = cv2.VideoCapture(video_path)\n",
        "length = int(cap.get(cv2.CAP_PROP_FRAME_COUNT))\n",
        "print( length )\n",
        "print('The video you have selected has',length,'frames')\n",
        "des=input('how would you like to proceed \\n\\t 1 - Manually enter the frame numbers \\n\\t 2 - Specify the number of screenshots you need\\n')\n",
        "if des == '1' :\n",
        "  print(\"Enter frame number one by one and type 'f' to generate screenshots\")\n",
        "  while True :\n",
        "    newf=(input(\"Enter a frame number : \"))\n",
        "    \n",
        "    if newf == 'finish'or newf == 'f'or newf == 'F':\n",
        "      break\n",
        "    try:\n",
        "      if int(newf) > length :\n",
        "    \n",
        "        print('Please enter values lower than the total Frame count \\n This video has',length,'frames')\n",
        "        continue\n",
        "    \n",
        "      framelist.append(int(newf))\n",
        "    except ValueError as e:\n",
        "      print('Please enter numbers')\n",
        "\n",
        "elif des == '2' :\n",
        "  totscr=int(input('How many screenshots do you need : '))\n",
        "  for i in range(1,totscr+1):\n",
        "    framelist.append(round((i/(totscr+1))*length))\n",
        "\n",
        "else :\n",
        "  print('please enter 1 or 2')\n",
        "#\n",
        "pathstr = '/'.join(str(part)for part in path)\n",
        "# Opens the Video file\n",
        "cap= cv2.VideoCapture(video_path)\n",
        "i=0\n",
        "if save_to_drive == True:\n",
        "  get_ipython().system_raw(\"mkdir -p \"+'\"'+str(pathstr)+'screens_by_u3eight\"')\n",
        "#a3= subprocess.Popen(['cd',os.path(pathstr)],stdout=subprocess.PIPE)\n",
        "#p2 = subprocess.Popen(['mkdir','screenshots_by_u3eight'], stdout=subprocess.PIPE)\n",
        "#while(cap.isOpened()):\n",
        "\n",
        "  \n",
        "\n",
        "# get coords based on boundary\n",
        "#textX = round((frame.shape[1] - textsize[0]) / 2)\n",
        "#textY = round((frame.shape[0] + textsize[1]) / 2)\n",
        "clear_output()\n",
        "for k in framelist:\n",
        "   cap.set(1,int(k))\n",
        "   ret, frame = cap.read()\n",
        "\n",
        "   if ret == False:\n",
        "        break   \n",
        "   if not(your_watermark==\"\"):\n",
        "      # get boundary of this text\n",
        "      height, width, channels = frame.shape\n",
        "      font = cv2.FONT_HERSHEY_SIMPLEX\n",
        "      textsize = cv2.getTextSize(your_watermark, font, min(width,height)/(1000), 2)[0]\n",
        "      \n",
        "      cv2.putText(frame,your_watermark,(round(width*1/32),round(height-3*textsize[1])), font, 1.5*min(width,height)/(1000),(255,255,255),1,cv2.LINE_AA)\n",
        "   cv2.imwrite(filename+str(k)+'.jpg',frame)\n",
        "   if send_to_imgur==True:\n",
        "    if os.path.exists('/root/.uaudith/imgur_u3eight.npy'):\n",
        "\n",
        "        upload(filename+str(k)+'.jpg')\n",
        "    else:\n",
        "        err()\n",
        "   if save_to_drive == True:\n",
        "      p1 = subprocess.Popen([\"mv\", filename+str(k)+'.jpg',pathstr+str('screens_by_u3eight/')], stdout=subprocess.PIPE)\n",
        "    \n",
        "\n",
        "cap.release()\n",
        "cv2.destroyAllWindows()\n",
        "#clear_output()\n",
        "display(HTML(\"<center><h2 style=\\\"font-family:Trebuchet MS;color:#008000;\\\">All done</h2><br></center>\"))\n",
        "\n"
      ],
      "execution_count": 5,
      "outputs": [
        {
          "output_type": "stream",
          "text": [
            "https://i.imgur.com/Uq9cuYg.jpg Uq9cuYg sxbgoXUnOmClMQO Woody.Woodpecker.Chief.Charlie.Horse.1956.Dvdrip.X264-Sprinter-1.mkv4516.jpg\n"
          ],
          "name": "stdout"
        },
        {
          "output_type": "display_data",
          "data": {
            "text/html": [
              "<center><h2 style=\"font-family:Trebuchet MS;color:#008000;\">All done</h2><br></center>"
            ],
            "text/plain": [
              "<IPython.core.display.HTML object>"
            ]
          },
          "metadata": {
            "tags": []
          }
        }
      ]
    },
    {
      "cell_type": "code",
      "metadata": {
        "id": "H5gLvlaTkYe1",
        "colab_type": "code",
        "cellView": "form",
        "colab": {}
      },
      "source": [
        "#@markdown <h3>⬅️ Run This Cell to generate 3 X 2 album</h3>\n",
        "#@markdown <h4> 1st mount gdrive  and copy the path to video</h4>\n",
        "# ============================= FORM ============================= #\n",
        "#get_ipython().system_raw('python3 -m pip install -U hachoir')\n",
        "get_ipython().system_raw('pip3 install opencv-python')\n",
        "import cv2\n",
        "import numpy as np\n",
        "from IPython.display import HTML, clear_output\n",
        "import subprocess\n",
        "#import random, string, urllib.request, json, getpass, os, time, IPython, uuid\n",
        "import os, psutil, IPython, uuid, time\n",
        "import ipywidgets as widgets\n",
        "clear_output(wait=True)\n",
        "def MakeLabel(description, button_style):\n",
        "  return widgets.Button(description=description, disabled=True, button_style=button_style)\n",
        "video_path = \"/content/drive/My Drive/movies/Godzilla.King.of.the.Monsters.2019.720p.WEB-DL.2CH.x265.HEVC-PSA/Godzilla.King.of.the.Monsters.2019.720p.WEB-DL.2CH.x265.HEVC-PSA.mkv\" #@param {type:\"string\"}\n",
        "your_watermark = \"SL - SeedBoX \" #@param {type:\"string\"}\n",
        "title = \"p\" #@param {type:\"string\"}\n",
        "#@markdown <h4>Chose black or white considering the background colour. </h4>\n",
        "black_font = False #@param {type:\"boolean\"}\n",
        "send_to_imgur = True #@param {type:\"boolean\"}\n",
        "framelist=[]\n",
        "img=[]\n",
        "loadingBtn = widgets.Button(description = \"Uploading\",\n",
        "                          disabled = True,\n",
        "                          button_style = 'info', # 'success', 'info', 'warning', 'danger' or '' \n",
        "                          tooltip = \"Uploading\",\n",
        "                          icon = 'check')\n",
        "def err():\n",
        "  display(HTML(\"<center><h2 style=\\\"font-family:Trebuchet MS;color:#008000;\\\">No api key Detected. Run Configuration !</h2><br></center>\"))\n",
        "\n",
        "clear_output(wait=True)\n",
        "display(MakeLabel(\"Generating Screens\",\"warning\"))\n",
        "path=video_path.split('/')\n",
        "filename=path[-1]\n",
        "path[-1]=''\n",
        "pathstr = '/'.join(str(part)for part in path)\n",
        "get_ipython().system_raw(\"mkdir -p \"+'\"'+str(pathstr)+'screens_by_u3eight\"')\n",
        "\n",
        "cap = cv2.VideoCapture(video_path)\n",
        "length = int(cap.get(cv2.CAP_PROP_FRAME_COUNT))\n",
        "for i in range(1,7):\n",
        "    framelist.append(round((i/(7))*length))\n",
        "\n",
        "for k in framelist:\n",
        "   cap.set(1,int(k))\n",
        "   ret, frame = cap.read()\n",
        "   if ret == False:\n",
        "        break\n",
        "   img.append(frame)\n",
        "   #cv2.imwrite(filename+str(k)+'.jpg',frame)\n",
        "row1 = np.concatenate((img[0], img[1],img[2]), axis=0)\n",
        "row2 = np.concatenate((img[3], img[4],img[5]), axis=0)\n",
        "#row3 = np.concatenate((img[0], img[1],img[2]), axis=0)\n",
        "finl= np.concatenate((row1, row2), axis=1)\n",
        "height, width, channels = finl.shape\n",
        "if not(title==\"\"):\n",
        "  # setup text\n",
        "  font = cv2.FONT_HERSHEY_SIMPLEX\n",
        "  if black_font== True:\n",
        "          colour=(0,0,0)\n",
        "  else:\n",
        "          colour=(255,255,255)  \n",
        "\n",
        "  # get boundary of this text\n",
        "  textsize = cv2.getTextSize(title, font, min(width,height)/(1000), 2)[0]\n",
        "\n",
        "  # get coords based on boundary\n",
        "  textX = round((finl.shape[1] - textsize[0]) / 2)\n",
        "  textY = round((finl.shape[0] + textsize[1]) / 2)\n",
        "  #fontScale = min(width,height)/(20)\n",
        "  # add text centered on image\n",
        "  cv2.putText(finl,title, (textX, 150 ), font,min(width,height)/(1000), colour, 6,cv2.LINE_AA)\n",
        "\n",
        "\n",
        "if not(your_watermark==\"\"):\n",
        "      font = cv2.FONT_HERSHEY_SIMPLEX\n",
        "      textsize = cv2.getTextSize(your_watermark, font, min(width,height)/(1000), 1)[0]\n",
        "      \n",
        "      cv2.putText(finl,your_watermark,(10,round(finl.shape[0])-8*textsize[1]), font, min(width,height)/(1000)*0.75,(255,255,255),1,cv2.LINE_AA)\n",
        "cv2.imwrite(filename+'.jpg',finl)\n",
        "if send_to_imgur==True:\n",
        "  if os.path.exists('/root/.uaudith/imgur_u3eight.npy'):\n",
        "    \n",
        "    display(loadingBtn)\n",
        "    imurl=upload(filename+'.jpg')\n",
        "  else:\n",
        "    err()\n",
        "\n",
        "p1 = subprocess.Popen([\"mv\", filename+'.jpg',pathstr+str('screens_by_u3eight/')], stdout=subprocess.PIPE)\n",
        "clear_output(wait=True)\n",
        "print(imurl,filename)\n",
        "display(MakeLabel(\"✔ Successfull\", \"success\"))"
      ],
      "execution_count": 0,
      "outputs": []
    }
  ]
}